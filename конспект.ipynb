{
 "cells": [
  {
   "cell_type": "markdown",
   "metadata": {},
   "source": [
    "\n",
    "# Основы статистики\n",
    "\n",
    "#### конспект лекций\n",
    "\n",
    "#### Автор: Anatoliy Karpov\n",
    "#### инициатор конспекта Mikhail Kurochkin telegram: @mikhail_kurochkin\n",
    "<img src=\"img/Saint_Karpov.png\" width=400>"
   ]
  },
  {
   "cell_type": "markdown",
   "metadata": {},
   "source": [
    "## Содержание\n",
    "### Часть 1\n",
    " - [Генеральная совокупность и выборка](#Генеральная-совокупность-и-выборка)\n",
    " - [Типы переменных](#Типы-переменных)\n",
    " - [Описательная статистика](#Описательная-статистика)\n",
    " - [Меры центральной тенденции](#Меры-центральной-тенденции)\n",
    "     - [Мода](#Мода)\n",
    "     - [Медиана](#Медиана)\n",
    "     - [Среднее значение](#Среднее-значение)\n",
    "     - [Примеры](#1.Примеры)\n",
    " - [Меры изменчивости](#Меры-изменчивости)\n",
    "    - [Размах](#Размах)\n",
    "    - [Дисперсия](#Дисперсия)\n",
    "    - [Квартили распределения](#Квартили-распределения)\n",
    "    - [Пример](#2.Пример)\n",
    " - [Нормальное распределение](#Нормальное-распределение)\n",
    "    - [Z-преобразование](#Z-преобразование)\n",
    "    - [Правило 3х-сигм](#Правило-3х-сигм)\n",
    "    - [Примеры](#3.Примеры)\n",
    " - [Центральная предельная теорема](#Центральная-предельная-теорема)\n",
    "    - [Примеры](#4.Примеры)\n",
    " - [Доверительные интервалы для среднего](#Доверительные-интервалы-для-среднего)\n",
    " - [Идея статистического вывода](#Идея-статистического-вывода)\n",
    "     - [Статистическая проверка гипотез](#Статистическая-проверка-гипотез)\n",
    "     - [p-уровень значимости](#p-уровень-значимости)\n",
    " \n"
   ]
  },
  {
   "cell_type": "markdown",
   "metadata": {},
   "source": [
    "### Часть 2\n",
    " - [T-распределение](#T-распределение)\n",
    "     - [Подробно про нормальное и t-распредление](#Подробно-про-нормальное-и-t-распредление)\n",
    "     - [Примеры](#5.Примеры)\n",
    " - [Сравнение двух средних; t-критерий Стьюдента](#Сравнение-двух-средних.-t-критерий-Стьюдента)\n",
    "     - [Примеры применения t-критерий Стьюдента](#Примеры-применения-t-критерий-Стьюдента)\n",
    "     - [Построение графиков](#6.-Примеры)\n",
    " - [Проверка распределения на нормальность](#Проверка-распределения-на-нормальность)\n",
    "     - [QQ-plot](#QQ-plot)\n",
    "     - [Примеры](#7.Примеры)\n",
    " - [Однофакторный дисперсионный анализ](#Однофакторный-дисперсионный-анализ)\n",
    " - [](#)\n",
    " - [](#)\n",
    "  "
   ]
  },
  {
   "cell_type": "markdown",
   "metadata": {},
   "source": [
    "### Часть 3\n",
    "\n",
    " - [Корреляция](#Корреляция)\n",
    "     - [Ковариация](#Ковариация)\n",
    "     - [Примеры](#Примеры-3.1)\n",
    " - [](#)\n",
    " - [](#)\n",
    " - [](#)\n",
    " \n",
    " \n",
    "\n",
    "[Полезные ссылки](#Полезные-ссылки)"
   ]
  },
  {
   "cell_type": "markdown",
   "metadata": {},
   "source": [
    "# Часть 1"
   ]
  },
  {
   "cell_type": "markdown",
   "metadata": {},
   "source": [
    "## Генеральная совокупность и выборка\n",
    " - **Генеральная совокупность** (от лат. generis — общий, родовой) — совокупность всех объектов, относительно которых предполагается делать выводы при изучении конкретной задачи. Далее ГС.\n",
    " - **Репрезентативная выборка** – это такая выборка, в которой все основные признаки генеральной совокупности, из которой извлечена данная выборка, представлены приблизительно в той же пропорции или с той же частотой, с которой данный признак выступает в этой генеральной совокупности.\n",
    "\n",
    "### Способы репрезентативной выборки:\n",
    " - **Простая случайная выборка** (simple random sample)\n",
    " - **Стратифицированная выборка** (stratified sample) – разделение ГС на страты (группы) а оттуда уже делается случайная выборка.\n",
    " - **Групповая выборка** (cluster sample) – похожие группы выбираются из выборки и далее делается случайная выборка (например, районы одного города)\n",
    " \n",
    "| групповая выборка                                                                                                                | Стратифицированная выборка                                                                              |\n",
    "|----------------------------------------------------------------------------------------------------------------------------------|---------------------------------------------------------------------------------------------------------|\n",
    "| Выборка формируется только из несколько субпопуляций (кластеров)                                                                 | Выборка формируется из всех субпопуляций (страт)                                                        |\n",
    "| В пределах кластера элементы должны быть разнородны, тогда как поддерживается однородность или схожесть между разными кластерами | В пределах страты элементы должны быть однородны, а между стратами должна быть разнородность (различия) |\n",
    "| Схема выборки нужна только для кластеров, попавших в выборку                                                                     | Должна быть сформирована полная схема выборки для всех стратифицированных субпопуляций                  |\n",
    "| Повышает эффективность выборки, уменьшая стоимость                                                                               | Повышает точность                                                                                       |\n",
    "\n"
   ]
  },
  {
   "cell_type": "markdown",
   "metadata": {},
   "source": [
    "## Типы переменных\n",
    "\n",
    " - **Количественные** – измеряемое (например, рост):\n",
    " - **Непрерывные** – переменная принимает любое значение на опр. промежутке;\n",
    " - **Дискретные** – только определенные значения (3.5 ребенка в семье не будет).\n",
    " - **Номинативные** (= качественные) – разделение испытуемых на группы, цифры как маркеры (например: 1 -женщины, 2 – мужчины). Цифры как имена групп, не для расчетов. \n",
    " - **Ранговые** – похоже на номинативные, только возможны сравнения (быстрее/медленнее и т.п.)\n"
   ]
  },
  {
   "cell_type": "markdown",
   "metadata": {},
   "source": [
    "## Описательная статистика\n",
    "### Глоссарий:\n",
    " - **Эмпирические данные** - данные полученные опытным путём.\n",
    "\n",
    " - **Описательная (дескриптивная) статистика** - обработка данных полученных эмпирическим путём и их систематизация, наглядное представление в форме графиков, таблиц, а также их количественное описание посредством основных статистических показателей.\n",
    "\n",
    " - **Распределение вероятностей** - это закон, описывающий область значений случайной величины и вероятность её появления (частоту) в данной области. То есть насколько часто X появляется в данном диапазоне значений.\n",
    "\n",
    " - **Гистограмма частот** - ступенчатая функция показывающая насколько часто вероятно появление величины в указанном диапазоне значений.\n"
   ]
  },
  {
   "cell_type": "markdown",
   "metadata": {},
   "source": [
    "## Меры центральной тенденции\n",
    "тип описательной статистики\n",
    "### Мода\n",
    "Это значение признака, которое встречается максимально часто. В выборке может быть несколько или одна мода.\n",
    "### Медиана\n",
    "Это значение признака, которое делит упорядочное множество попалам. Если множество содержит чётное количество элементов, то берётся среднее из двух серединных элементов упорядочного множества.\n",
    "### Среднее значение\n",
    "Cумма всех значений измеренного признака делится на количество измеренных значений.\n",
    "\n",
    "#### Свойства среднего значения\n",
    "$$M_{x + c} = \\frac{\\sum_{i=1}^{n}{(x_{i} + c)}}{n} = \\frac{\\sum_{i=1}^{n} x_{i}}{n} + \\frac{\\sum_{i=1}^{n} c}{n} = M_{x} + \\frac{nc}{n} = M_{x} + c$$\n",
    "\n",
    "$$M_{x * c} = \\frac{\\sum_{i=1}^{n}{(x_{i} * c)}}{n} = \\frac{c * \\sum_{i=1}^{n} x_{i}}{n} = c * M_{x}$$\n",
    "\n",
    "$$\\sum_{i=1}^{n} (x_{i} - M_{x}) = nM_{x} - nM_{x} = 0$$\n",
    "\n",
    "### 1.Примеры "
   ]
  },
  {
   "cell_type": "code",
   "execution_count": 1,
   "metadata": {},
   "outputs": [
    {
     "name": "stdout",
     "output_type": "stream",
     "text": [
      "mode: ModeResult(mode=array([172]), count=array([4]))\n",
      "median: 170.5\n",
      "mean: 170.4\n"
     ]
    }
   ],
   "source": [
    "'''Расчёт моды, медианы и среднего с помощью библиотек numpy и scipy'''\n",
    "import numpy as np\n",
    "from scipy import stats\n",
    "sample = np.array([185, 175, 170, 169, 171, 175, 157, 172, 170, 172, 167, 173, 168, 167, 166,\n",
    "              167, 169, 172, 177, 178, 165, 161, 179, 159, 164, 178, 172, 170, 173, 171])\n",
    "# в numpy почему-то нет моды\n",
    "print('mode:', stats.mode(sample))\n",
    "print('median:', np.median(sample))\n",
    "print('mean:', np.mean(sample))"
   ]
  },
  {
   "cell_type": "code",
   "execution_count": 2,
   "metadata": {},
   "outputs": [
    {
     "name": "stdout",
     "output_type": "stream",
     "text": [
      "mode: 0    172\n",
      "dtype: int64\n",
      "median: 170.5\n",
      "mean: 170.4\n"
     ]
    }
   ],
   "source": [
    "'''Расчёт моды, медианы и среднего с помощью библиотеки pandas'''\n",
    "import pandas as pd\n",
    "sample = pd.Series([185, 175, 170, 169, 171, 175, 157, 172, 170, 172, 167, 173, 168, 167, 166,\n",
    "              167, 169, 172, 177, 178, 165, 161, 179, 159, 164, 178, 172, 170, 173, 171])\n",
    "\n",
    "print('mode:', sample.mode())\n",
    "print('median:', sample.median())\n",
    "print('mean:', sample.mean())"
   ]
  },
  {
   "cell_type": "markdown",
   "metadata": {},
   "source": [
    "## Меры изменчивости\n",
    "### Размах\n",
    "Это разность между максимальным и минимальным значениям выборки. Крайне чувствителен к взбросам.\n",
    "### Дисперсия\n",
    "\n",
    "Это средний квадрат отклонений индивидуальных значений признака от их средней величины\n",
    "\n",
    "#### Для генеральной совокупности\n",
    "$$D = \\frac{\\sum_{i=1}^{n} (x_{i} - M_{x})^2}{n}$$\n",
    "Среднеквадратическое отклонение\n",
    "$$ \\sigma = \\sqrt{D}$$\n",
    "#### Для выборки\n",
    "$$D = \\frac{\\sum_{i=1}^{n} (x_{i} - M_{x})^2}{n-1}$$\n",
    "где 1 это количество степеней свободы\n",
    "Важно отменить, что среднеквадратическое отклонение для выборки обозначают по другому, как **sd** - standart deviation\n",
    "\n",
    "#### Ликбез: Почему именно квадрат, а не модуль или куб?\n",
    " Могу предположить, что линейное отклонение более чувствительно выбросам, квадратичное менее, кубическое — ещё менее чувствительно.\n",
    " Попробовал посчитать для 3-х выборок: [1,2,3,4,5], [1,2,3,4,50] и [1,2,3,4,500]:\n",
    "\n",
    " - Линейное: 2.5, 452.5 и 49502.5\n",
    " - Квадратичное: 1.58, 21.27 и 222.49\n",
    " - Кубическое: 1.36, 7.68, и 36.71\n",
    " \n",
    "Модуль не берут потому, что модуль - не гладкая функция. В нуле у модуля имеется \"излом\" из-за которого у производной происходит разрыв.\n",
    "А очень многие математические теоремы, которые наверняка потребуются дальше, работают только на гладких функциях.\n",
    "\n",
    "Вообще, с не гладкими функциями работать не любят. Там все становится сложнее. Поэтому берется квадрат.\n",
    "[Source](#https://stepik.org/lesson/8076/step/5?discussion=49741&unit=1356)\n",
    "\n",
    "#### Свойства дисперсии\n",
    "\n",
    "$$ D_{x+c} = D_x $$\n",
    "$$ D_{x*c} = D_x+c^2 $$\n",
    "\n",
    "### Квартили распределения\n",
    "**Квартили** - это три точки(значения признака), которые делят **упорядочное** множество данных на 4 равные части.\n",
    "\n",
    "**Box plot** - такой вид диаграммы в удобной форме показывает медиану, нижний и верхний квартили, минимальное и максимальное значение выборки и выбросы.\n",
    "\n",
    "<img src=\"img/boxplot.png\" width=400>\n",
    "\n",
    "Квартили и inter quartile range используют, чтобы оценить наличие выбросов. Алгоритм расчета - посчитали квартили, посчитали разницу между ними, вычислили теоретический максимум и минимум, сравнили с имеющимся и выяснили есть ли у вас выбросы и сколько их. Если много, то нужно анализировать и решать брать ли их в выборку или нет. \n",
    "\n",
    "### 2.Пример\n"
   ]
  },
  {
   "cell_type": "code",
   "execution_count": 4,
   "metadata": {},
   "outputs": [
    {
     "name": "stdout",
     "output_type": "stream",
     "text": [
      "Range: 28 is equal max - min: 28\n",
      "Standard deviation: 6.00\n"
     ]
    }
   ],
   "source": [
    "'''Расчитываем размах и стандартное отклонение с помощью numpy'''\n",
    "import numpy as np\n",
    "sample = np.array([185, 175, 170, 169, 171, 175, 157, 172, 170, 172, 167, 173, 168, 167, 166,\n",
    "              167, 169, 172, 177, 178, 165, 161, 179, 159, 164, 178, 172, 170, 173, 171])\n",
    "\n",
    "# The name of the function comes from the acronym for ‘peak to peak’.\n",
    "print(f'Range: {np.ptp(sample)} is equal max - min: {np.max(sample)- np.min(sample)}')\n",
    "\n",
    "# ddof - Delta Degrees of Freedom\n",
    "print(f'Standard deviation: {np.std(sample, ddof=1):.2f}')"
   ]
  },
  {
   "cell_type": "markdown",
   "metadata": {},
   "source": [
    "#### Диаграмма boxplot"
   ]
  },
  {
   "cell_type": "code",
   "execution_count": 29,
   "metadata": {},
   "outputs": [
    {
     "data": {
      "image/png": "[encoded data removed]",
      "text/plain": [
       "<Figure size 432x288 with 1 Axes>"
      ]
     },
     "metadata": {
      "needs_background": "light"
     },
     "output_type": "display_data"
    }
   ],
   "source": [
    "'''с помощью диаграммы boxplot мы можем узнать медиану, 2 и 3 квартиль'''\n",
    "import matplotlib.pyplot as plt\n",
    "\n",
    "\n",
    "plt.boxplot(sample, showfliers=1)\n",
    "plt.show()"
   ]
  },
  {
   "cell_type": "markdown",
   "metadata": {},
   "source": [
    "## Нормальное распределение\n",
    "**Коротко**\n",
    " - Унимодально\n",
    " - Симметрично\n",
    " - Отклонения наблюдений от среднего подчиняются определённому вероятностному закону\n",
    " \n",
    "**Подробно**\n",
    "\n",
    "Нормальное распределение возникает в результате воздействия множества факторов, вклад каждого из которых очень мал.\n",
    "\n",
    "Для облегчения этого восприятия в 1873 году Фрэнсис Гальтон сделал устройство, которое в последствии назвали Доской Галтона (или квинкункс). Суть простая: сверху по середине подаются шарики, которые при прохождении нескольких уровней (например, 10-ти) на каждом уровне сталкиваются с препятствием, и при каждом столкновении отскакивают либо влево, либо вправо (с равной вероятностью).\n",
    "\n",
    "Как вы догадываетесь, результатом прохождения - это распределение, стремящееся к нормальному!\n",
    "\n",
    "Выглядит это так:\n",
    "\n",
    "<img src=\"img/гальтон.gif\" width=500>\n",
    "\n",
    "Или в виде кода:"
   ]
  },
  {
   "cell_type": "code",
   "execution_count": 5,
   "metadata": {},
   "outputs": [
    {
     "data": {
      "image/png": "[encoded data removed]",
      "text/plain": [
       "<Figure size 432x288 with 1 Axes>"
      ]
     },
     "metadata": {
      "needs_background": "light"
     },
     "output_type": "display_data"
    }
   ],
   "source": [
    "'''Иммитация доски Гальтона в коде'''\n",
    "import seaborn as sns\n",
    "data = dict()\n",
    "# количество шариков\n",
    "N = 10000\n",
    "# количество уровней\n",
    "level = 20\n",
    "for _ in range(N):\n",
    "    index = 0\n",
    "    for _ in range(level):\n",
    "        index += np.random.choice([-1, 1])\n",
    "    data.setdefault(index, 0)\n",
    "    data[index] += 1\n",
    "sns.barplot(x=list(data.keys()), y=list(data.values()));"
   ]
  },
  {
   "cell_type": "markdown",
   "metadata": {},
   "source": [
    "### Z-преобразование\n",
    "\n",
    "Преобразование полученных данных в стандартную Z-шкалу (Z-scores) со средним значением = 0 и дисперсией = 1. Чтобы привести к такому виду из каждого наблюдения нужно отнять среднее значение и разделитьв на стандартное отклонение. \n",
    "\n",
    "$$ Z_{i}=\\frac{x_{i} - \\bar{X}}{sd} $$\n",
    "\n",
    "Иногда нам необходимо рассчитать z - значение только для отдельно взятого наблюдения, чтоб выяснить насколько далеко оно отклоняется от среднего значения в единицах стандартного отклонения.\n",
    "\n",
    "### Правило 3х-сигм\n",
    "\n",
    "<img src=\"img/3-sigma.svg\">\n",
    "\n",
    "\n",
    "### 3.Примеры"
   ]
  },
  {
   "cell_type": "code",
   "execution_count": 6,
   "metadata": {},
   "outputs": [
    {
     "name": "stdout",
     "output_type": "stream",
     "text": [
      "Только у 4.78% людей, IQ>125\n"
     ]
    }
   ],
   "source": [
    "''' Считается, что значение IQ (уровень интеллекта) у людей имеет нормальное распределение\n",
    "со средним значением равным 100 и стандартным отклонением равным 15 (M = 100, sd = 15).\n",
    "Какой приблизительно процент людей обладает IQ > 125?\n",
    "'''\n",
    "\n",
    "from scipy import stats\n",
    "mean = 100\n",
    "std = 15\n",
    "IQ=125\n",
    "# sf - Survival function = (1 - cdf) - Cumulative distribution function\n",
    "print(f\"Только у {(stats.norm(mean, std).sf(IQ))*100:.2f}% людей, IQ>{IQ}\")"
   ]
  },
  {
   "cell_type": "markdown",
   "metadata": {},
   "source": [
    "## Центральная предельная теорема\n",
    "\n",
    "Гласит, что множество средних выборок из генеральной совокупности (ГС необязательно иметь нормальное распределние) будут иметь нормальное распределение. Причём средняя этого распределения будет близко к средней генеральной совокупности, а стандарное отклонение этого распределение будет називаться **стандарной ошибкой среднего** (se).\n",
    "\n",
    "Зная стандартное отклонение ГС и размер выборки мы можем рассчитать стандартную ошибку среднего.\n",
    "\n",
    "$$ se = \\frac{\\sigma}{\\sqrt{N}} $$\n",
    "\n",
    "где N - размер выборки. Если размер выборки достаточно большой (>30) и она является репрезативна, то вместо стандарного отклонения ГС мы можем взять стандарное отклонение выборки.\n",
    "\n",
    "$$ se = \\frac{sd}{\\sqrt{N}} $$\n",
    "\n",
    "Стандартная ошибка среднего - это среднеквадратическое отклонение распределения выборочных средних\n",
    "### 4.Примеры\n",
    "Проверим на практике все эти законы."
   ]
  },
  {
   "cell_type": "code",
   "execution_count": 119,
   "metadata": {},
   "outputs": [
    {
     "data": {
      "text/plain": [
       "<matplotlib.axes._subplots.AxesSubplot at 0x210251b85e0>"
      ]
     },
     "execution_count": 119,
     "metadata": {},
     "output_type": "execute_result"
    },
    {
     "data": {
      "image/png": "[encoded data removed]",
      "text/plain": [
       "<Figure size 432x288 with 1 Axes>"
      ]
     },
     "metadata": {
      "needs_background": "light"
     },
     "output_type": "display_data"
    }
   ],
   "source": [
    "import numpy as np\n",
    "import pandas as pd\n",
    "import matplotlib.pyplot as plt\n",
    "import math\n",
    "\n",
    "# значения игральной кости\n",
    "dice = [1, 2, 3, 4, 5, 6]\n",
    "# количество бросков кости\n",
    "count = 6\n",
    "# размер генеральной совокупность\n",
    "sp_size = 10000\n",
    "# sp - Statistical population - генеральная совокупность\n",
    "sp = pd.Series(dtype=np.int64, index=range(sp_size))\n",
    "for i in range(sp_size):\n",
    "    value = 0\n",
    "    for _ in range(count):\n",
    "        value += np.random.choice(dice)\n",
    "    sp[i] = value\n",
    "\n",
    "sp.plot.hist(bins=28)"
   ]
  },
  {
   "cell_type": "code",
   "execution_count": 120,
   "metadata": {},
   "outputs": [
    {
     "data": {
      "image/png": "[encoded data removed]",
      "text/plain": [
       "<Figure size 1152x720 with 12 Axes>"
      ]
     },
     "metadata": {
      "needs_background": "light"
     },
     "output_type": "display_data"
    }
   ],
   "source": [
    "# количество выборок\n",
    "samples_count = 10\n",
    "# размер выборки\n",
    "sample_size = 200\n",
    "samples = pd.DataFrame([\n",
    "    [np.random.choice(sp) for _ in range(sample_size)] for __ in range(samples_count)\n",
    "]).T\n",
    "\n",
    "samples.hist(figsize=(16, 10), sharex=0)\n",
    "plt.subplots_adjust(hspace = 0.6)\n"
   ]
  },
  {
   "cell_type": "code",
   "execution_count": 121,
   "metadata": {},
   "outputs": [
    {
     "name": "stdout",
     "output_type": "stream",
     "text": [
      "сравним среднию ГС и среднию средних выборок 20.9914 21.155\n",
      "разница: 0.1636000000000024 , стандартная ошибка среднего: 0.29476921292578884\n"
     ]
    }
   ],
   "source": [
    "means = samples.mean()\n",
    "print('сравним среднию ГС и среднию средних выборок', sp.mean(), means.mean())\n",
    "print('разница:', abs(means.mean() - sp.mean()), ', стандартная ошибка среднего:', means.std())"
   ]
  },
  {
   "cell_type": "code",
   "execution_count": 122,
   "metadata": {},
   "outputs": [
    {
     "name": "stdout",
     "output_type": "stream",
     "text": [
      "sample mean: 20.785\n",
      "sample SE:  0.2791657978935956\n"
     ]
    }
   ],
   "source": [
    "# возмем произвольную выборку \n",
    "sample = samples[0]\n",
    "print('sample mean:', sample.mean())\n",
    "print('sample SE: ', sample.std()/math.sqrt(sample.size))"
   ]
  },
  {
   "cell_type": "markdown",
   "metadata": {},
   "source": [
    "### PS Важное замечание о ЦПТ номер 2.\n",
    "\n",
    "Пожалую самый сложный момент - это как мы так взяли и заменили стандартное отклонение генеральной совокупности на выборочное. Ну и что с того, что у нас выборка объемом больше 30 наблюдений, что за магическое число такое? \n",
    "\n",
    "Все правильно, никакой магии не происходит. И совсем скоро мы в этом окончательно разберемся. Как только пройдем тему t - распределения во втором модуле. Вот тут я подробно расписал, как же нам нужно рассчитывать стандартную ошибку среднего, если мы не знаем стандартное отклонение в генеральной совокупности."
   ]
  },
  {
   "cell_type": "markdown",
   "metadata": {},
   "source": [
    "## Доверительные интервалы для среднего\n",
    "\n",
    "Если мы имеем некоторую выборку и ГС, то мы **не можем точно** знать среднюю ГС, зная только среднее выборки. Однако мы можем сказать, с некоторым процентом уверенности, в каком интервале лежит средняя ГС. Понятно дело, что для нас лучше, чтобы этот интервал был как можно меньше, как это сделать?"
   ]
  },
  {
   "cell_type": "markdown",
   "metadata": {},
   "source": [
    "Мы знаем, средняя средних выборок, стремится к средней ГС, также мы знаем, что стандартная ошибка среднего описывает стандартное отклонение распределения средних выборок. Если мы возьмём случайную выборку $X$ и найдём её среднее $\\bar{X}$, а также вычислим стандартную ошибку $se$, то мы можем вычислить доверительный интевал $[\\bar{X} - 1.96*se; \\bar{X} + 1.96*se]$ который описывает среднюю ГС с некотором интервале с 95% доверия.\n",
    "\n",
    "Загадочное число **1,96** это количество сигм $\\sigma$ в нормальном распределение, необходимые, чтобы охватить **95%** значений в этом распределнии.\n",
    "\n",
    "<img src=\"img/norm_196.png\" width=200>"
   ]
  },
  {
   "cell_type": "code",
   "execution_count": 8,
   "metadata": {},
   "outputs": [
    {
     "name": "stdout",
     "output_type": "stream",
     "text": [
      "1.96 sigma\n"
     ]
    }
   ],
   "source": [
    "'''Вычисление 1.96 c помощью scipy'''\n",
    "from scipy import stats\n",
    "\n",
    "# 95%\n",
    "p = 0.95\n",
    "# так как у нас двухсторонний интервал, сделаем вычисление\n",
    "alpha = (1-p)/2\n",
    "# isf - Inverse survival function (inverse of sf) \n",
    "print(f'{stats.norm().isf(alpha):.2f} sigma')"
   ]
  },
  {
   "cell_type": "code",
   "execution_count": 10,
   "metadata": {},
   "outputs": [
    {
     "name": "stdout",
     "output_type": "stream",
     "text": [
      "[8.71; 11.29]\n"
     ]
    }
   ],
   "source": [
    "'''Рассчитайте 99% доверительный интервал для следующего примера: \n",
    "среднее = 10, стандартное отклонение = 5, размер выборки = 100\n",
    "'''\n",
    "from numpy import sqrt\n",
    "from scipy import stats\n",
    "\n",
    "p = 0.99\n",
    "mean = 10\n",
    "std = 5\n",
    "n = 100\n",
    "\n",
    "se = std/sqrt(n)\n",
    "alpha = (1-p)/2\n",
    "sigma = stats.norm().isf(alpha)\n",
    "сonfidence_interval = mean - sigma*se, mean + sigma*se\n",
    "print('[%.2f; %.2f]' % сonfidence_interval)"
   ]
  },
  {
   "cell_type": "markdown",
   "metadata": {},
   "source": [
    "## Идея статистического вывода\n",
    "### Статистическая проверка гипотез\n",
    "\n",
    "\n",
    "### p-уровень значимости\n",
    "\n",
    "p-уровень значимости - это вероятность получить такие или более выраженные различия при условии, что в генеральной совокупности никаких различий на самом деле нет.\n",
    "\n"
   ]
  },
  {
   "cell_type": "markdown",
   "metadata": {},
   "source": [
    "\n",
    "\n",
    "\n",
    "# Часть 2"
   ]
  },
  {
   "cell_type": "markdown",
   "metadata": {},
   "source": [
    "## T-распределение\n",
    "\n",
    "Распределение Стьюдента по сути представляет собой сумму нескольких нормально распределенных случайных величин. Чем больше величин, тем больше верятность, что их сумма будет иметь нормальное распределение. Таким образом, количество суммируемых величин определяет важнейший параметр формы данного распредения - число степеней свободы."
   ]
  },
  {
   "cell_type": "code",
   "execution_count": 35,
   "metadata": {},
   "outputs": [
    {
     "data": {
      "image/png": "[encoded data removed]",
      "text/plain": [
       "<Figure size 432x288 with 1 Axes>"
      ]
     },
     "metadata": {
      "needs_background": "light"
     },
     "output_type": "display_data"
    }
   ],
   "source": [
    "'''График снизу показывает, как меняется форма распределения при увеличение количества степеней свободы.\n",
    "А также показывает приближение t-распредееления к нормальному по мере увеличения степеней свободы.'''\n",
    "from scipy.stats import t, norm\n",
    "import numpy as np\n",
    "import matplotlib.pyplot as plt\n",
    "\n",
    "\n",
    "x = np.linspace(-5, 5, 100)\n",
    "y1, y2, y3 = t.pdf(x, df=1), t.pdf(x, df=3), t.pdf(x, df=10)\n",
    "y4 = norm.pdf(x)\n",
    "\n",
    "plt.title('графики t-распредления с разными степенями свободы')\n",
    "plt.plot(x, y1)\n",
    "plt.plot(x, y2)\n",
    "plt.plot(x, y3)\n",
    "plt.plot(x, y4, 'r:')\n",
    "plt.legend(('df=1', 'df=3', 'df=10', 'norm'))\n",
    "plt.show()"
   ]
  },
  {
   "cell_type": "markdown",
   "metadata": {},
   "source": [
    "График плотности распределения Стьюдента, как и нормального распределения, является симметричным и имеет вид колокола, но с более «тяжёлыми» хвостами."
   ]
  },
  {
   "cell_type": "markdown",
   "metadata": {},
   "source": [
    "### Подробно про нормальное и t-распредление\n",
    "\n",
    "В видео лекциях говорилось, что мы используем t-распределение в ситуации небольшого объема выборки. Необходимо более подробно пояснить, зачем это нужно.\n",
    "\n",
    "Вернемся к предельной центральной теореме, мы уже узнали, что если некий признак в генеральной совокупности распределен **нормально** со средним $\\mu$ и стандартным отклонением $\\sigma$, и мы будем многократно извлекать выборки одинакового размера n, и для каждой выборки рассчитывать, как далеко выборочное среднее $\\bar{X}$ ˉ\n",
    " отклонилось от среднего в генеральной совокупности в единицах стандартной ошибки среднего:\n",
    " \n",
    "\n",
    "$$\\large z = \\frac{\\bar{X} - \\mu}{\\frac{\\sigma}{\\sqrt{n}}}$$\n",
    "\n",
    "то эта величина z будет иметь стандартное нормальное распределение со средним равным нулю и стандартным отклонением равным единице.\n",
    "\n",
    "Обратите внимание, что для расчета стандартной ошибки мы используем именно стандартное отклонение в генеральной совокупности - $\\sigma$. Ранее мы уже обсуждали, что на практике $\\sigma$ нам практически никогда не известна, и для расчета стандартной ошибки мы используем выборочное стандартное отклонение.\n",
    "\n",
    "Так вот, строго говоря в таком случае распределение отклонения выборочного среднего и среднего в генеральной совокупности, деленного на стандартную ошибку, теперь будет описываться именно при помощи t - распределения.\n",
    "\n",
    "$$\\large t = \\frac{\\bar{X} - \\mu}{\\frac{sd}{\\sqrt{n}}}$$\n",
    "\n",
    "\n",
    "таким образом, в случае неизвестной $\\sigma$ мы **всегда будем иметь дело с t-распределением**. На этом этапе вы должны с негодованием спросить меня, почему же мы применяли z-критерий в первом модуле курса, для проверки гипотез, используя выборочное стандартное отклонение?\n",
    "\n",
    "Мы уже знаем, что при довольно большом объеме выборки (обычно в учебниках приводится правило, n > 30) t-распределение совсем близко подбирается к нормальному распределению:\n",
    "\n",
    "Поэтому иногда, для простоты расчетов говорится, что если n > 30, то мы будем использовать свойства нормального распределения для наших целей. Строго говоря, это конечно неправильный подход, который часто критикуют. В до компьютерную эпоху этому было некоторое объяснение, чтобы не рассчитывать для каждого n больше 30 соответствующее критическое значение t - распределения, статистики как бы округляли результат и использовали нормальное распределение для этих целей. Сегодня, конечно, с этим больше никаких проблем нет, и все статистические программы, разумеется, без труда рассчитают все необходимые показатели для t - распределения с любым числом степеней свободы. Действительно при выборках очень большого объема t - распределение практически не будет отличаться от нормального, однако, хоть и очень малые но различия все равно будут.\n",
    "\n",
    "Поэтому, правильнее будет сказать, что мы используем t - распределение не потому что у нас маленькие выборки, а потому что мы не знаем стандартное отклонение в генеральной совокупности. Поэтому в дальнейшем мы всегда будем использовать t - распределение для проверки гипотез, если нам неизвестно стандартное отклонение в генеральной совокупности, необходимое для расчета стандартной ошибки, даже если объем выборки больше 30.\n",
    "\n",
    "### 5.Примеры"
   ]
  },
  {
   "cell_type": "code",
   "execution_count": 43,
   "metadata": {},
   "outputs": [
    {
     "name": "stdout",
     "output_type": "stream",
     "text": [
      "p = 0.065\n"
     ]
    }
   ],
   "source": [
    "'''На выборке в 15 наблюдений при помощи одновыборочного t-теста\n",
    "проверяется нулевая гипотеза: μ=10 \n",
    "и рассчитанное t-значение равняется -2 (t = -2), то p-уровень значимости  (двусторонний) равен:\n",
    "'''\n",
    "from scipy import stats\n",
    "\n",
    "t = -2\n",
    "n = 15\n",
    "df = n - 1\n",
    "\n",
    "p = 2 * stats.t.sf(abs(t), df)\n",
    "print(f'p = {p:.3f}')"
   ]
  },
  {
   "cell_type": "markdown",
   "metadata": {},
   "source": [
    "## Сравнение двух средних. t-критерий Стьюдента\n",
    "\n",
    "t-критерий Стьюдента — общее название для статистических тестов, в которых статистика критерия имеет распределение Стьюдента. Наиболее часто t-критерии применяются для проверки равенства средних значений в двух выборках. Нулевая гипотеза предполагает, что средние равны (отрицание этого предположения называют гипотезой сдвига).\n",
    "\n",
    "$$ t = \\frac{\\bar{X_1} - \\bar{X_2}}{se}$$\n",
    "\n",
    "$$ se = \\sqrt{\\frac{sd_1^2}{n_1} + \\frac{sd_2^2}{n_2}} $$\n",
    "\n",
    "Откуда берётся такая формула $se$?:\n",
    "\n",
    "$$ (se_1)^2 = (\\frac{sd_1}{\\sqrt{n_1}})^2 = \\frac{sd_1^2}{n_1} $$\n",
    " \n",
    "То есть:\n",
    "\n",
    "$$ se = \\sqrt{\\frac{sd_1^2}{n_1} + \\frac{sd_2^2}{n_2}} = \\sqrt{se_1^2 + se_2^2} $$\n",
    "\n",
    "причем ответ на вопрос, почему верно это равенство, кроется в свойстве дисперсии: дисперсия суммы независимых случайных величин равна сумме их дисперсий. а отклонение - это корень из дисперсии. отсюда ваша последняя формула"
   ]
  },
  {
   "cell_type": "markdown",
   "metadata": {},
   "source": [
    "### Примеры применения t-критерий Стьюдента\n",
    "**Пример 1.** Первая выборка — это пациенты, которых лечили препаратом А. Вторая выборка — пациенты, которых лечили препаратом Б. Значения в выборках — это некоторая характеристика эффективности лечения (уровень метаболита в крови, температура через три дня после начала лечения, срок выздоровления, число койко-дней, и т.д.) Требуется выяснить, имеется ли значимое различие эффективности препаратов А и Б, или различия являются чисто случайными и объясняются «естественной» дисперсией выбранной характеристики.\n",
    "\n",
    "**Пример 2.** Первая выборка — это значения некоторой характеристики состояния пациентов, записанные до лечения. Вторая выборка — это значения той же характеристики состояния тех же пациентов, записанные после лечения. Объёмы обеих выборок обязаны совпадать; более того, порядок элементов (в данном случае пациентов) в выборках также обязан совпадать. Такие выборки называются связными. Требуется выяснить, имеется ли значимое отличие в состоянии пациентов до и после лечения, или различия чисто случайны.\n",
    "\n",
    "**Пример 3.** Первая выборка — это поля, обработанные агротехническим методом А. Вторая выборка — поля, обработанные агротехническим методом Б. Значения в выборках — это урожайность. Требуется выяснить, является ли один из методов эффективнее другого, или различия урожайности обусловлены случайными факторами.\n",
    "\n",
    "**Пример 4.** Первая выборка — это дни, когда в супермаркете проходила промо-акция типа А (красные ценники со скидкой). Вторая выборка — дни промо-акции типа Б (каждая пятая пачка бесплатно). Значения в выборках — это показатель эффективности промо-акции (объём продаж, либо выручка в рублях). Требуется выяснить, какой из типов промо-акции более эффективен.\n",
    "\n",
    "### 6. Примеры"
   ]
  },
  {
   "cell_type": "code",
   "execution_count": 50,
   "metadata": {},
   "outputs": [
    {
     "data": {
      "text/html": [
       "<div>\n",
       "<style scoped>\n",
       "    .dataframe tbody tr th:only-of-type {\n",
       "        vertical-align: middle;\n",
       "    }\n",
       "\n",
       "    .dataframe tbody tr th {\n",
       "        vertical-align: top;\n",
       "    }\n",
       "\n",
       "    .dataframe thead th {\n",
       "        text-align: right;\n",
       "    }\n",
       "</style>\n",
       "<table border=\"1\" class=\"dataframe\">\n",
       "  <thead>\n",
       "    <tr style=\"text-align: right;\">\n",
       "      <th></th>\n",
       "      <th>Mx</th>\n",
       "      <th>SD</th>\n",
       "      <th>N</th>\n",
       "      <th>SE</th>\n",
       "      <th>interval</th>\n",
       "    </tr>\n",
       "  </thead>\n",
       "  <tbody>\n",
       "    <tr>\n",
       "      <th>Выборка1</th>\n",
       "      <td>100.815</td>\n",
       "      <td>10.246503</td>\n",
       "      <td>20.0</td>\n",
       "      <td>2.291188</td>\n",
       "      <td>4.545754</td>\n",
       "    </tr>\n",
       "    <tr>\n",
       "      <th>Выборка2</th>\n",
       "      <td>75.735</td>\n",
       "      <td>15.458102</td>\n",
       "      <td>20.0</td>\n",
       "      <td>3.456537</td>\n",
       "      <td>6.886174</td>\n",
       "    </tr>\n",
       "  </tbody>\n",
       "</table>\n",
       "</div>"
      ],
      "text/plain": [
       "               Mx         SD     N        SE  interval\n",
       "Выборка1  100.815  10.246503  20.0  2.291188  4.545754\n",
       "Выборка2   75.735  15.458102  20.0  3.456537  6.886174"
      ]
     },
     "execution_count": 50,
     "metadata": {},
     "output_type": "execute_result"
    }
   ],
   "source": [
    "import pandas as pd\n",
    "from scipy.stats import t\n",
    "import matplotlib.pyplot as plt\n",
    "import numpy as np\n",
    "\n",
    "array1 = np.array([84.7, 105.0, 98.9, 97.9, 108.7, 81.3, 99.4, 89.4, 93.0,\n",
    "                   119.3, 99.2, 99.4, 97.1, 112.4, 99.8, 94.7, 114.0, 95.1, 115.5, 111.5])\n",
    "array2 = np.array([57.2, 68.6, 104.4, 95.1, 89.9, 70.8, 83.5, 60.1, 75.7,\n",
    "                   102.0, 69.0, 79.6, 68.9, 98.6, 76.0, 74.8, 56.0, 55.6, 69.4, 59.5])\n",
    "\n",
    "# считаем количество элементов, среднее, стандартное отклонение и стандартную ошибку\n",
    "df = pd.DataFrame({'Выборка1':array1, 'Выборка2':array2}).agg(['mean','std','count','sem']).transpose()\n",
    "df.columns = ['Mx','SD','N','SE']\n",
    "\n",
    "# рассчитываем 95% интервал отклонения среднего\n",
    "p = 0.95\n",
    "K = t.ppf((1 + p)/2, df['Mx']-1)\n",
    "df['interval'] = K * df['SE']\n",
    "\n",
    "df"
   ]
  },
  {
   "cell_type": "code",
   "execution_count": 54,
   "metadata": {},
   "outputs": [
    {
     "data": {
      "image/png": "[encoded data removed]",
      "text/plain": [
       "<Figure size 1008x648 with 2 Axes>"
      ]
     },
     "metadata": {
      "needs_background": "light"
     },
     "output_type": "display_data"
    }
   ],
   "source": [
    "\n",
    "\n",
    "#строим графики, boxplot из изначальных данных array1, array2,  доверительные интервалы из датафрейма df\n",
    "fig, (ax1, ax2) = plt.subplots(nrows=1, ncols=2, figsize=(14, 9))\n",
    "\n",
    "# график boxplot\n",
    "bplot1 = ax1.boxplot([array1, array2],\n",
    "                     vert=True,  # создаем вертикальные боксы\n",
    "                     patch_artist=True, # для красоты заполним цветом боксы квантилей\n",
    "                     labels=['Выборка1', 'Выборка2']) # используется для задания значений выборок в случае с boxplot\n",
    "\n",
    "# график доверительных интервалов\n",
    "bplot2 = ax2.errorbar(x=df.index, y=df['Mx'], yerr=df['interval'],\\\n",
    "                      color=\"black\", capsize=3, marker=\"s\", markersize=4, mfc=\"red\", mec=\"black\", fmt ='o')\n",
    "\n",
    "# раскрасим boxplot  \n",
    "colors = ['pink', 'lightgreen']\n",
    "for patch, color in zip(bplot1['boxes'], colors):\n",
    "    patch.set_facecolor(color)\n",
    "    \n",
    "# добавим общие для каждого из графиков данные\n",
    "for ax in [ax1, ax2]:\n",
    "    ax.yaxis.grid(True)\n",
    "    ax.set_title('Температура плавления ДНК двух типов')\n",
    "    ax.set_xlabel('Сравнение двух выборок')\n",
    "    ax.set_ylabel('Температура F')\n",
    "    \n",
    "plt.show()"
   ]
  },
  {
   "cell_type": "code",
   "execution_count": null,
   "metadata": {},
   "outputs": [],
   "source": []
  },
  {
   "cell_type": "markdown",
   "metadata": {},
   "source": [
    "### Задача \n",
    "\n",
    "Рассчитайте доверительный интервал основываясь на знании t - распределения для среднего значения температуры плавления ДНК у первого вида:\n",
    "\n",
    "$$ \\bar{X}=89,9\\quad sd=11,3\\quad n=20 $$"
   ]
  },
  {
   "cell_type": "code",
   "execution_count": 9,
   "metadata": {},
   "outputs": [
    {
     "name": "stdout",
     "output_type": "stream",
     "text": [
      "[84.61; 95.19]\n"
     ]
    }
   ],
   "source": [
    "from scipy import stats\n",
    "from math import sqrt\n",
    "\n",
    "mean = 89.9\n",
    "sd = 11.3\n",
    "n = 20\n",
    "# степень свободы\n",
    "df = n - 1\n",
    "# 95% доверительный интервал\n",
    "p = 0.95\n",
    "alpha = 1-p\n",
    "# стандартная ошибка\n",
    "se = sd/sqrt(n)\n",
    "\n",
    "# ppf - Percent point function\n",
    "# делим на два, так как по умолчанию функция считает для одного конца, а нам надо для двух\n",
    "t_value = stats.t(df).ppf(1-(alpha/2))\n",
    "\n",
    "# доверительный интервал \n",
    "сonfidence_interval = (mean-t_value*se, mean+t_value*se)\n",
    "print('[%.2f; %.2f]' % сonfidence_interval)"
   ]
  },
  {
   "cell_type": "markdown",
   "metadata": {},
   "source": [
    "## Проверка распределения на нормальность\n",
    "\n",
    "### QQ-plot\n",
    "\n",
    "### 7.Примеры\n"
   ]
  },
  {
   "cell_type": "code",
   "execution_count": 10,
   "metadata": {},
   "outputs": [
    {
     "data": {
      "image/png": "[encoded data removed]",
      "text/plain": [
       "<Figure size 864x432 with 2 Axes>"
      ]
     },
     "metadata": {
      "needs_background": "light"
     },
     "output_type": "display_data"
    }
   ],
   "source": [
    "import numpy as np \n",
    "import scipy.stats as stats\n",
    "import matplotlib.pyplot as plt\n",
    "\n",
    "plt.rcParams['figure.figsize'] = [12, 6]\n",
    "\n",
    "mu, sigma = 10, 4\n",
    "n = 1000 # с ростом числа точек в распределении qq-plot стремится к прямой\n",
    "sequence = np.random.normal(mu, sigma, n)\n",
    "\n",
    "\n",
    "fig, (ax1, ax2) = plt.subplots(1, 2)\n",
    "fig.suptitle('QQ Plot', fontsize=18)\n",
    "\n",
    "# Q-Q Plot graph\n",
    "stats.probplot(sequence, dist=\"norm\", plot=ax1)\n",
    "ax1.set_title(\"Normal Q-Q Plot\")\n",
    "\n",
    "# normal distribution histogram + distribution\n",
    "count, bins, _ = ax2.hist(sequence, 25, density=True)\n",
    "p_x = 1/(sigma * np.sqrt(2 * np.pi)) * np.exp( - (bins - mu)**2 / (2 * sigma**2) )\n",
    "ax2.plot(bins, p_x, color='r')\n",
    " \n",
    "\n",
    "plt.show()"
   ]
  },
  {
   "cell_type": "markdown",
   "metadata": {},
   "source": [
    "## Однофакторный дисперсионный анализ\n",
    "\n",
    "Рассмотренный ранее **t-критерий Стьюдента** (равно как и его непараметрические аналоги) предназначен для сравнения исключительно **двух совокупностей**. В таком случае мы можем применять однофакторный дисперсионный анализ.  Та переменная, которая будет разделять наших испытуемых или наблюдения на группы (номинативная переменная с нескольким градациями) называется **независимой переменной**. А та количественная переменная, по степени выраженности которой мы сравниваем группы, называется **зависимая переменная**. \n",
    "\n",
    "\n",
    "$$ SS_{total} = \\sum_{j=1}^{p}{\\sum_{i=1}^{n_j}{(x_{ij} - \\bar{x})^2}} = SS_{between} + SS_{within} $$\n",
    "$$ SS_{between} = \\sum_{j=1}^{p}{n_j{(\\bar{x}_j - \\bar{x})^2}} $$\n",
    "$$ SS_{within} = \\sum_{j=1}^{p}{\\sum_{i=1}^{n_j}{(x_{ij} - \\bar{x}_j)^2}} $$\n"
   ]
  },
  {
   "cell_type": "code",
   "execution_count": 69,
   "metadata": {},
   "outputs": [
    {
     "name": "stdout",
     "output_type": "stream",
     "text": [
      "Нулевая гипотеза: a=b=c\n",
      "Альтернативная гипотеза: !(a=b=c)\n",
      "Результат:\n",
      "отклоняем нулевую гипотезу\n"
     ]
    },
    {
     "data": {
      "image/png": "[encoded data removed]",
      "text/plain": [
       "<Figure size 864x432 with 1 Axes>"
      ]
     },
     "metadata": {
      "needs_background": "light"
     },
     "output_type": "display_data"
    }
   ],
   "source": [
    "from scipy import stats\n",
    "import pandas as pd\n",
    "\n",
    "# Выборки которые надо сравнить\n",
    "data = pd.DataFrame({\n",
    "           'a': [3, 1, 2],\n",
    "           'b': [5, 3, 4],\n",
    "           'c': [7, 6, 5]\n",
    "          })\n",
    "data.boxplot()\n",
    "print('Нулевая гипотеза:', '='.join(data))\n",
    "print('Альтернативная гипотеза:', f'!({\"=\".join(data)})')\n",
    "grand_mean = data.values.flatten().mean()\n",
    "ssb = sum(data[group].size * (group_mean - grand_mean)**2  for group, group_mean in data.mean().items())\n",
    "\n",
    "ssw = sum(sum((x - group_mean)**2 for x in data[group]) for group, group_mean in data.mean().items())\n",
    "\n",
    "groups = data.shape[1]\n",
    "dfb = groups - 1\n",
    "dfw = data.size - groups\n",
    "# межгрупповой средний квадрат  \n",
    "mssb = ssb/dfb\n",
    "# внутригрупповой средний квадрат\n",
    "mssw = ssw/dfw\n",
    "\n",
    "f_value = mssb/mssw\n",
    "\n",
    "p = stats.f.sf(f_value, dfb, dfw)\n",
    "print('Результат:')\n",
    "if p < 0.05:\n",
    "    print('отклоняем нулевую гипотезу')\n",
    "else:\n",
    "    print('НЕ отклоняем нулевую гипотезу')"
   ]
  },
  {
   "cell_type": "markdown",
   "metadata": {},
   "source": [
    "## Корреляция\n",
    "\n",
    "### Ковариация \n",
    "\n",
    "(ко - совместная, вариация - изменчивость). Мера **линейной** зависимости двух случайных величин.\n",
    "\n",
    "Если ковариация положительна, то с ростом значений одной случайной величины, значения второй имеют тенденцию возрастать, а если знак отрицательный — то убывать.\n",
    "\n",
    "$$ cov(X, Y) = \\frac{\\sum{(x_i - \\bar{x})(y_i - \\bar{x})}}{N - 1} $$\n",
    "где N - количество случайных величин, а единица - количество степеней свободы.\n",
    "\n",
    "Однако только по **абсолютному** значению ковариации **нельзя судить** о том, **насколько сильно величины взаимосвязаны**, так как масштаб ковариации зависит от их дисперсий. Значение ковариации можно нормировать, поделив её на произведение среднеквадратических отклонений (квадратных корней из дисперсий) случайных величин. Полученная величина называется коэффициентом корреляции Пирсона, который всегда находится в интервале от −1 до 1:"
   ]
  },
  {
   "cell_type": "markdown",
   "metadata": {},
   "source": [
    "\n",
    "$$ r(x, y) = \\frac{cov(x, y)}{\\sigma_x\\sigma_y}$$"
   ]
  },
  {
   "cell_type": "markdown",
   "metadata": {},
   "source": [
    "### Подробнее про формулу корреляции\n",
    "\n",
    "Давайте остановимся на формуле коэффициента корреляции, которую мы получили:\n",
    "$$ r(x, y) = \\frac{cov(x, y)}{\\sigma_x\\sigma_y}$$\n",
    "запишем формулу чуть подробнее и выполним возможные преобразования:\n",
    "\n",
    "$$ r(x, y) = \\frac{\\sum{(x_i - \\bar{x})(y_i - \\bar{x})}}{(N - 1)\\sqrt{\\sum{\\frac{(x_i - \\bar{x})^2}{N-1}}}\\sqrt{\\sum{\\frac{(x_i - \\bar{x})^2}{N-1}}}} $$\n",
    "\n",
    "теперь вынесем 1/ (N - 1) из под корней \n",
    "\n",
    "$$ r(x, y) = \\frac{\\sum{(x_i - \\bar{x})(y_i - \\bar{x})}}{(N - 1)\\frac{1}{(N-1)}\\sqrt{\\sum{(x_i - \\bar{x})^2}}\\sqrt{\\sum{(x_i - \\bar{x})^2}}} $$\n",
    "\n",
    "и сократим (N - 1)\n",
    "\n",
    "$$ r(x, y) = \\frac{\\sum{(x_i - \\bar{x})(y_i - \\bar{x})}}{\\sqrt{\\sum{(x_i - \\bar{x})^2}}\\sqrt{\\sum{(x_i - \\bar{x})^2}}} $$\n",
    "\n",
    "таким образом, мы сократили N - 1 в знаменателе и получили финальную формулу для коэффициента корреляции, которую вы часто сможете встретить в учебниках:\n",
    "\n",
    "$$ r(x, y) = \\frac{\\sum{(x_i - \\bar{x})(y_i - \\bar{x})}}{\\sqrt{\\sum{(x_i - \\bar{x})^2}\\sum{(x_i - \\bar{x})^2}}} $$"
   ]
  },
  {
   "cell_type": "markdown",
   "metadata": {},
   "source": [
    "### Примеры 3.1"
   ]
  },
  {
   "cell_type": "code",
   "execution_count": 56,
   "metadata": {},
   "outputs": [],
   "source": [
    "import numpy as np\n",
    "import random as r\n",
    "\n",
    "def cov(x, y):\n",
    "    assert x.size == y.size\n",
    "    return ((x - x.mean()) * (y - y.mean())).sum()/(x.size - 1)\n",
    "\n",
    "def cor(x, y):\n",
    "    return cov(x, y)/(np.std(x, ddof=1)*np.std(y, ddof=1))\n",
    "\n",
    "# функция имитирущая случаные факторы\n",
    "# р - настолько существенным будет случайный фактор\n",
    "def randomize(arr, p):\n",
    "    alpha = np.max(arr) - np.min(arr)\n",
    "    res = np.zeros(arr.shape)\n",
    "    for i, v in enumerate(arr):\n",
    "        sign = 1 if r.choice([True, False]) else -1\n",
    "        res[i] = v + sign*alpha*r.random()*p\n",
    "    return res"
   ]
  },
  {
   "cell_type": "code",
   "execution_count": 33,
   "metadata": {},
   "outputs": [],
   "source": [
    "x = np.array(range(30))\n",
    "y = randomize(x, 0.1)\n",
    "y1 = randomize(x, 0.5)\n",
    "y2 = randomize(x, 1)"
   ]
  },
  {
   "cell_type": "code",
   "execution_count": 62,
   "metadata": {},
   "outputs": [
    {
     "data": {
      "text/plain": [
       "Text(0.5, 0, 'x')"
      ]
     },
     "execution_count": 62,
     "metadata": {},
     "output_type": "execute_result"
    },
    {
     "data": {
      "image/png": "[encoded data removed]",
      "text/plain": [
       "<Figure size 504x1080 with 3 Axes>"
      ]
     },
     "metadata": {
      "needs_background": "light"
     },
     "output_type": "display_data"
    }
   ],
   "source": [
    "import matplotlib.pyplot as plt\n",
    "\n",
    "fig, (ax1, ax2, ax3) = plt.subplots(3, 1, figsize=(7,15), sharex=True)\n",
    "ax1.scatter(x, y)\n",
    "ax2.scatter(x, y1)\n",
    "ax3.scatter(x, y2)\n",
    "ax1.set_ylabel('y')\n",
    "ax2.set_ylabel('y1')\n",
    "ax3.set_ylabel('y2')\n",
    "plt.xlabel('x')"
   ]
  },
  {
   "cell_type": "code",
   "execution_count": 63,
   "metadata": {},
   "outputs": [
    {
     "name": "stdout",
     "output_type": "stream",
     "text": [
      "\n",
      "cov1: 79.07\n",
      "cov2: 76.80\n",
      "cov3: 110.19\n",
      "\n",
      "cor1: 0.99\n",
      "cor2: 0.71\n",
      "cor3: 0.61\n",
      "\n"
     ]
    }
   ],
   "source": [
    "print(f'''\n",
    "cov1: {cov(x, y):.2f}\n",
    "cov2: {cov(x, y1):.2f}\n",
    "cov3: {cov(x, y2):.2f}\n",
    "\n",
    "cor1: {cor(x, y):.2f}\n",
    "cor2: {cor(x, y1):.2f}\n",
    "cor3: {cor(x, y2):.2f}\n",
    "''')"
   ]
  },
  {
   "cell_type": "code",
   "execution_count": 70,
   "metadata": {},
   "outputs": [],
   "source": [
    "assert np.cov(x, y)[0][1] == cov(x, y)\n",
    "# assert np.cov(x, y1)[0][1] == cov(x, y1)\n",
    "assert np.cov(x, y2)[0][1] == cov(x, y2)"
   ]
  },
  {
   "cell_type": "markdown",
   "metadata": {},
   "source": [
    "# Полезные ссылки\n",
    "\n",
    "- https://gallery.shinyapps.io/dist_calc/\n",
    "    - сайт где можно визуализировать различные распределения и вести подсчёты"
   ]
  }
 ],
 "metadata": {
  "kernelspec": {
   "display_name": "Python 3",
   "language": "python",
   "name": "python3"
  },
  "language_info": {
   "codemirror_mode": {
    "name": "ipython",
    "version": 3
   },
   "file_extension": ".py",
   "mimetype": "text/x-python",
   "name": "python",
   "nbconvert_exporter": "python",
   "pygments_lexer": "ipython3",
   "version": "3.7.9"
  }
 },
 "nbformat": 4,
 "nbformat_minor": 4
}
