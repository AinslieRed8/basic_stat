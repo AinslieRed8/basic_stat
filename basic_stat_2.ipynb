{
 "cells": [
  {
   "cell_type": "markdown",
   "metadata": {},
   "source": [
    "# Основы статистики. Часть II\n",
    "\n",
    "Автор лекций: **святой Анатолий Карпов**\n",
    "\n",
    "Конспектировал: **отрок Михаил Курочкин**\n",
    "(немного саморекламы: мой [Instagramm](https://www.instagram.com/mikhail_k17/))\n",
    "\n",
    "<img src='img/Saint_Karpov.png'>"
   ]
  },
  {
   "cell_type": "markdown",
   "metadata": {},
   "source": [
    "<hr>\n",
    "\n",
    "## Содержание"
   ]
  },
  {
   "cell_type": "markdown",
   "metadata": {},
   "source": [
    "### Часть 1\n",
    "\n",
    " - [~ ~](#)\n",
    " - [~ ~](#)\n",
    " - [~ ~](#)\n",
    " - [~ ~](#)\n",
    " - [~ ~](#)\n",
    " - [~ ~](#)\n",
    " - [~ ~](#)\n",
    " - [~ ~](#)\n",
    " - [~ ~](#)\n",
    " - [~ ~](#)\n",
    " - [~ ~](#)\n",
    " - [~ ~](#)\n",
    " - [~ ~](#)\n",
    " - [~ ~](#)\n",
    " - [~ ~](#)\n",
    " - [~ ~](#)"
   ]
  },
  {
   "cell_type": "markdown",
   "metadata": {},
   "source": [
    "### Часть 2\n",
    "\n",
    " - [~ ~](#)\n",
    " - [~ ~](#)\n",
    " - [~ ~](#)\n",
    " - [~ ~](#)\n",
    " - [~ ~](#)\n",
    " - [~ ~](#)\n",
    " - [~ ~](#)\n",
    " - [~ ~](#)\n",
    " - [~ ~](#)\n",
    " - [~ ~](#)\n",
    " - [~ ~](#)\n",
    " - [~ ~](#)\n",
    " - [~ ~](#)\n",
    " - [~ ~](#)\n",
    " - [~ ~](#)\n",
    " - [~ ~](#)"
   ]
  },
  {
   "cell_type": "markdown",
   "metadata": {},
   "source": [
    "### Часть 3\n",
    "\n",
    " - [~ ~](#)\n",
    " - [~ ~](#)\n",
    " - [~ ~](#)\n",
    " - [~ ~](#)\n",
    " - [~ ~](#)\n",
    " - [~ ~](#)\n",
    " - [~ ~](#)\n",
    " - [~ ~](#)\n",
    " - [~ ~](#)\n",
    " - [~ ~](#)\n",
    " - [~ ~](#)\n",
    " - [~ ~](#)\n",
    " - [~ ~](#)\n",
    " - [~ ~](#)\n",
    " - [~ ~](#)\n",
    " - [~ ~](#)"
   ]
  }
 ],
 "metadata": {
  "kernelspec": {
   "display_name": "Python 3",
   "language": "python",
   "name": "python3"
  },
  "language_info": {
   "codemirror_mode": {
    "name": "ipython",
    "version": 3
   },
   "file_extension": ".py",
   "mimetype": "text/x-python",
   "name": "python",
   "nbconvert_exporter": "python",
   "pygments_lexer": "ipython3",
   "version": "3.8.5"
  }
 },
 "nbformat": 4,
 "nbformat_minor": 4
}
